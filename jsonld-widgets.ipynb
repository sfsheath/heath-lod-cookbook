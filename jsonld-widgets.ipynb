{
 "cells": [
  {
   "cell_type": "code",
   "execution_count": 2,
   "metadata": {},
   "outputs": [],
   "source": [
    "from urllib.request import urlopen\n",
    "from rdflib import Graph, plugin\n",
    "import pandas as pd\n",
    "import matplotlib.pyplot as plt\n",
    "\n",
    "from ipywidgets import widgets,interact\n",
    "from IPython.display import display, HTML"
   ]
  },
  {
   "cell_type": "code",
   "execution_count": 3,
   "metadata": {},
   "outputs": [],
   "source": [
    "json_data = urlopen(\"http://sfsheath.github.io/roman-amphitheaters/roman-amphitheaters.geojson\")\n",
    "g = Graph().parse(data=json_data.read(), format='json-ld')"
   ]
  },
  {
   "cell_type": "code",
   "execution_count": 49,
   "metadata": {},
   "outputs": [
    {
     "data": {
      "text/html": [
       "Capacity Greater Than:"
      ],
      "text/plain": [
       "<IPython.core.display.HTML object>"
      ]
     },
     "metadata": {},
     "output_type": "display_data"
    },
    {
     "data": {
      "application/vnd.jupyter.widget-view+json": {
       "model_id": "16e05dbce00d498088ce64795c2b7e36",
       "version_major": 2,
       "version_minor": 0
      },
      "text/plain": [
       "IntSlider(value=7500, max=55000, min=2000, step=1000)"
      ]
     },
     "metadata": {},
     "output_type": "display_data"
    },
    {
     "data": {
      "text/html": [
       "Capacity Less Than:"
      ],
      "text/plain": [
       "<IPython.core.display.HTML object>"
      ]
     },
     "metadata": {},
     "output_type": "display_data"
    },
    {
     "data": {
      "application/vnd.jupyter.widget-view+json": {
       "model_id": "4565c3b84da34fe582f3761f8c7906d4",
       "version_major": 2,
       "version_minor": 0
      },
      "text/plain": [
       "IntSlider(value=55000, max=55000, min=2000, step=1000)"
      ]
     },
     "metadata": {},
     "output_type": "display_data"
    }
   ],
   "source": [
    "low_widget = widgets.IntSlider(value=7500,min=2000, max=55000, step = 1000)\n",
    "high_widget = widgets.IntSlider(value=55000,min=2000, max=55000, step = 1000)\n",
    "display(HTML(\"Capacity Greater Than:\"),low_widget, HTML(\"Capacity Less Than:\"), high_widget)"
   ]
  },
  {
   "cell_type": "code",
   "execution_count": 48,
   "metadata": {},
   "outputs": [
    {
     "data": {
      "text/plain": [
       "<matplotlib.axes._subplots.AxesSubplot at 0x1197abac8>"
      ]
     },
     "execution_count": 48,
     "metadata": {},
     "output_type": "execute_result"
    },
    {
     "data": {
      "image/png": "[encoded data removed]",
      "text/plain": [
       "<Figure size 432x288 with 1 Axes>"
      ]
     },
     "metadata": {},
     "output_type": "display_data"
    }
   ],
   "source": [
    "lower_range = low_widget.value\n",
    "upper_range = high_widget.value\n",
    "\n",
    "results = g.query(\"\"\"\n",
    "PREFIX ramphs: <http://purl.org/roman-amphitheaters/resource/>\n",
    "PREFIX gj: <https://purl.org/geojson/vocab#>\n",
    "PREFIX ramphs-p: <http://purl.org/roman-amphitheaters/properties#>\n",
    "PREFIX dcterms: <http://purl.org/dc/terms/>\n",
    "SELECT ?title ?capacity WHERE {\n",
    "\n",
    "?s gj:properties/ramphs-p:capacity/ramphs-p:quantity ?capacity .\n",
    "\n",
    "FILTER ((?capacity > %s) )\n",
    "FILTER (?capacity < %s)\n",
    "}\"\"\" % (lower_range, upper_range ) )\n",
    "\n",
    "caps = []\n",
    "for row in results:\n",
    "    caps.append(float(row.capacity))\n",
    "ramphs_pd = pd.Series({'capacity':caps})\n",
    "ramphs_pd.hist()"
   ]
  }
 ],
 "metadata": {
  "kernelspec": {
   "display_name": "Python 3",
   "language": "python",
   "name": "python3"
  },
  "language_info": {
   "codemirror_mode": {
    "name": "ipython",
    "version": 3
   },
   "file_extension": ".py",
   "mimetype": "text/x-python",
   "name": "python",
   "nbconvert_exporter": "python",
   "pygments_lexer": "ipython3",
   "version": "3.7.0"
  }
 },
 "nbformat": 4,
 "nbformat_minor": 2
}
