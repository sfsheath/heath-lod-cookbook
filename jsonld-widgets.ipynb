{
 "cells": [
  {
   "cell_type": "markdown",
   "metadata": {},
   "source": [
    "# Interactive Histogram of Roman Amphitheater Capacities\n",
    "\n",
    "Execute the three cells in order. That will load data and then create an interactive histogram at bottom of page. Slide upper and lower ranges to control which capacities appear in histogram."
   ]
  },
  {
   "cell_type": "code",
   "execution_count": 1,
   "metadata": {},
   "outputs": [],
   "source": [
    "from urllib.request import urlopen\n",
    "from rdflib import Graph, plugin\n",
    "import pandas as pd\n",
    "import matplotlib.pyplot as plt\n",
    "\n",
    "from ipywidgets import widgets,interact\n",
    "from IPython.display import display, HTML, clear_output"
   ]
  },
  {
   "cell_type": "code",
   "execution_count": 4,
   "metadata": {},
   "outputs": [],
   "source": [
    "# jsonld+geojson amphitheater data\n",
    "json_data = urlopen(\"http://sfsheath.github.io/roman-amphitheaters/roman-amphitheaters.geojson\")\n",
    "g = Graph().parse(data=json_data.read(), format='json-ld')"
   ]
  },
  {
   "cell_type": "code",
   "execution_count": 7,
   "metadata": {},
   "outputs": [
    {
     "data": {
      "application/vnd.jupyter.widget-view+json": {
       "model_id": "c43868d7362a418aa59a50ce2bae9b69",
       "version_major": 2,
       "version_minor": 0
      },
      "text/plain": [
       "IntSlider(value=19000, continuous_update=False, description='Lower limit:', max=55000, min=2000, step=1000)"
      ]
     },
     "metadata": {},
     "output_type": "display_data"
    },
    {
     "data": {
      "application/vnd.jupyter.widget-view+json": {
       "model_id": "933b24c42a34419bb53a977cc347f5e0",
       "version_major": 2,
       "version_minor": 0
      },
      "text/plain": [
       "IntSlider(value=45000, continuous_update=False, description='Upper limit:', max=55000, min=2000, step=1000)"
      ]
     },
     "metadata": {},
     "output_type": "display_data"
    },
    {
     "data": {
      "image/png": "[encoded data removed]",
      "text/plain": [
       "<Figure size 432x288 with 1 Axes>"
      ]
     },
     "metadata": {},
     "output_type": "display_data"
    }
   ],
   "source": [
    "# functin that handles changes to sliders and creates histogram\n",
    "def on_value_change(change=0): # change isn't used but will be passewd so there has to be a placeholder\n",
    "    global low_widget\n",
    "    global high_widget\n",
    "    global lower_range\n",
    "    global upper_range\n",
    "    \n",
    "    lower_range = low_widget.value\n",
    "    upper_range = high_widget.value\n",
    "\n",
    "    results = g.query(\"\"\"\n",
    "PREFIX ramphs: <http://purl.org/roman-amphitheaters/resource/>\n",
    "PREFIX gj: <https://purl.org/geojson/vocab#>\n",
    "PREFIX ramphs-p: <http://purl.org/roman-amphitheaters/properties#>\n",
    "PREFIX dcterms: <http://purl.org/dc/terms/>\n",
    "SELECT ?title ?capacity WHERE {\n",
    "\n",
    "?s gj:properties/ramphs-p:capacity/ramphs-p:quantity ?capacity .\n",
    "\n",
    "FILTER ((?capacity > %s) )\n",
    "FILTER (?capacity < %s)\n",
    "}\"\"\" % (lower_range, upper_range ) )\n",
    "\n",
    "    caps = []\n",
    "    for row in results:\n",
    "        caps.append(float(row.capacity))\n",
    "    ramphs_pd = pd.Series({'capacity':caps})\n",
    "    \n",
    "    clear_output()\n",
    "    low_widget = widgets.IntSlider(value=lower_range,\n",
    "                               min=2000,\n",
    "                               max=55000, step = 1000,\n",
    "                               description=\"Lower limit:\",\n",
    "                               continuous_update=False)\n",
    "    high_widget = widgets.IntSlider(value=upper_range,\n",
    "                                min=2000, max=55000,\n",
    "                                step = 1000,\n",
    "                                description=\"Upper limit:\",\n",
    "                                continuous_update=False)\n",
    "    low_widget.observe(on_value_change, names='value')\n",
    "    high_widget.observe(on_value_change, names='value')\n",
    "    \n",
    "    display(low_widget, high_widget)\n",
    "    ramphs_pd.hist()\n",
    "\n",
    "# initialize (a little repetetive)\n",
    "low_widget = widgets.IntSlider(value=7500,\n",
    "                               min=2000,\n",
    "                               max=55000,\n",
    "                               step = 1000,\n",
    "                               description=\"Lower limit:\",\n",
    "                               continuous_update=False)\n",
    "high_widget = widgets.IntSlider(value=55000,\n",
    "                                min=2000, \n",
    "                                max=55000,\n",
    "                                step = 1000,\n",
    "                                description=\"Upper limit:\",\n",
    "                                continuous_update=False)\n",
    "\n",
    "low_widget.observe(on_value_change, names='value')\n",
    "high_widget.observe(on_value_change, names='value')\n",
    "\n",
    "display(low_widget, high_widget)\n",
    "on_value_change()\n"
   ]
  }
 ],
 "metadata": {
  "kernelspec": {
   "display_name": "Python 3",
   "language": "python",
   "name": "python3"
  },
  "language_info": {
   "codemirror_mode": {
    "name": "ipython",
    "version": 3
   },
   "file_extension": ".py",
   "mimetype": "text/x-python",
   "name": "python",
   "nbconvert_exporter": "python",
   "pygments_lexer": "ipython3",
   "version": "3.7.0"
  }
 },
 "nbformat": 4,
 "nbformat_minor": 2
}
