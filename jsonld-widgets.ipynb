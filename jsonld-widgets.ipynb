{
 "cells": [
  {
   "cell_type": "markdown",
   "metadata": {},
   "source": [
    "# Interactive Table and Histogram of Roman Amphitheater Capacities\n",
    "\n",
    "Execute the three cells in order. That will load data and then create an interactive interface to setting which amphitheaters capacities appear in a table and histogram at the bottom of the page. Slide the sliders and click the checkbox to make changes. Display refresh is clunky, but it works.\n",
    "\n",
    "Note: If you're running this in Binder, you might get warnings about module compatibility. Should be OK to ignore those, or at least was in Summer of 2018."
   ]
  },
  {
   "cell_type": "code",
   "execution_count": 1,
   "metadata": {},
   "outputs": [],
   "source": [
    "from urllib.request import urlopen\n",
    "from rdflib import Graph, plugin\n",
    "import pandas as pd\n",
    "import matplotlib.pyplot as plt\n",
    "\n",
    "from ipywidgets import widgets,interact\n",
    "from IPython.display import display, HTML, clear_output\n",
    "\n",
    "pd.set_option('display.max_colwidth', -1)"
   ]
  },
  {
   "cell_type": "code",
   "execution_count": 2,
   "metadata": {},
   "outputs": [],
   "source": [
    "# jsonld+geojson amphitheater data\n",
    "json_data = urlopen(\"http://sfsheath.github.io/roman-amphitheaters/roman-amphitheaters.geojson\")\n",
    "g = Graph().parse(data=json_data.read(), format='json-ld')"
   ]
  },
  {
   "cell_type": "code",
   "execution_count": 3,
   "metadata": {},
   "outputs": [
    {
     "data": {
      "application/vnd.jupyter.widget-view+json": {
       "model_id": "bdcfcebf1605451cbcaddf7f884c15bd",
       "version_major": 2,
       "version_minor": 0
      },
      "text/plain": [
       "IntSlider(value=55000, continuous_update=False, description='Upper limit:', max=55000, min=2000, step=1000)"
      ]
     },
     "metadata": {},
     "output_type": "display_data"
    },
    {
     "data": {
      "application/vnd.jupyter.widget-view+json": {
       "model_id": "421c38061f84441791b425b46760b78f",
       "version_major": 2,
       "version_minor": 0
      },
      "text/plain": [
       "IntSlider(value=2000, continuous_update=False, description='Lower limit:', max=55000, min=2000, step=1000)"
      ]
     },
     "metadata": {},
     "output_type": "display_data"
    },
    {
     "data": {
      "application/vnd.jupyter.widget-view+json": {
       "model_id": "4cb0d594146e4e738caaf847320f2c90",
       "version_major": 2,
       "version_minor": 0
      },
      "text/plain": [
       "Checkbox(value=True, description='Sort high to low')"
      ]
     },
     "metadata": {},
     "output_type": "display_data"
    },
    {
     "data": {
      "text/html": [
       "<table border=\"1\" class=\"dataframe\">\n",
       "  <thead>\n",
       "    <tr style=\"text-align: right;\">\n",
       "      <th></th>\n",
       "      <th>title</th>\n",
       "      <th>capacity</th>\n",
       "      <th>pleiades</th>\n",
       "    </tr>\n",
       "  </thead>\n",
       "  <tbody>\n",
       "    <tr>\n",
       "      <th>74</th>\n",
       "      <td>Flavian Amphitheater at Rome</td>\n",
       "      <td>50000</td>\n",
       "      <td><a href=\"https://pleiades.stoa.org/places/423025\" target=\"_new\">https://pleiades.stoa.org/places/423025hihi</a></td>\n",
       "    </tr>\n",
       "    <tr>\n",
       "      <th>79</th>\n",
       "      <td>Imperial Amphitheater at Capua</td>\n",
       "      <td>37000</td>\n",
       "      <td><a href=\"https://pleiades.stoa.org/places/432754\" target=\"_new\">https://pleiades.stoa.org/places/432754hihi</a></td>\n",
       "    </tr>\n",
       "    <tr>\n",
       "      <th>114</th>\n",
       "      <td>Flavian Amphitheater at Pozzuoli</td>\n",
       "      <td>35700</td>\n",
       "      <td><a href=\"https://pleiades.stoa.org/places/432815\" target=\"_new\">https://pleiades.stoa.org/places/432815hihi</a></td>\n",
       "    </tr>\n",
       "    <tr>\n",
       "      <th>45</th>\n",
       "      <td>Amphitheater at Thysdrus</td>\n",
       "      <td>35000</td>\n",
       "      <td><a href=\"https://pleiades.stoa.org/places/324835\" target=\"_new\">https://pleiades.stoa.org/places/324835hihi</a></td>\n",
       "    </tr>\n",
       "    <tr>\n",
       "      <th>89</th>\n",
       "      <td>Amphitheater at Tours</td>\n",
       "      <td>34000</td>\n",
       "      <td><a href=\"https://pleiades.stoa.org/places/138255\" target=\"_new\">https://pleiades.stoa.org/places/138255hihi</a></td>\n",
       "    </tr>\n",
       "    <tr>\n",
       "      <th>112</th>\n",
       "      <td>Amphitheater at Milan</td>\n",
       "      <td>31649</td>\n",
       "      <td><a href=\"https://pleiades.stoa.org/places/383706\" target=\"_new\">https://pleiades.stoa.org/places/383706hihi</a></td>\n",
       "    </tr>\n",
       "    <tr>\n",
       "      <th>115</th>\n",
       "      <td>Amphitheater at Verona</td>\n",
       "      <td>30000</td>\n",
       "      <td><a href=\"https://pleiades.stoa.org/places/383816\" target=\"_new\">https://pleiades.stoa.org/places/383816hihi</a></td>\n",
       "    </tr>\n",
       "    <tr>\n",
       "      <th>2</th>\n",
       "      <td>Amphitheater at Metz</td>\n",
       "      <td>30000</td>\n",
       "      <td><a href=\"https://pleiades.stoa.org/places/108928\" target=\"_new\">https://pleiades.stoa.org/places/108928hihi</a></td>\n",
       "    </tr>\n",
       "    <tr>\n",
       "      <th>33</th>\n",
       "      <td>Amphitheater at Carthage</td>\n",
       "      <td>30000</td>\n",
       "      <td><a href=\"https://pleiades.stoa.org/places/314921\" target=\"_new\">https://pleiades.stoa.org/places/314921hihi</a></td>\n",
       "    </tr>\n",
       "    <tr>\n",
       "      <th>11</th>\n",
       "      <td>Amphitheater at Syracuse</td>\n",
       "      <td>28773</td>\n",
       "      <td><a href=\"https://pleiades.stoa.org/places/462503\" target=\"_new\">https://pleiades.stoa.org/places/462503hihi</a></td>\n",
       "    </tr>\n",
       "  </tbody>\n",
       "</table>"
      ],
      "text/plain": [
       "<IPython.core.display.HTML object>"
      ]
     },
     "metadata": {},
     "output_type": "display_data"
    },
    {
     "data": {
      "image/png": "[encoded data removed]",
      "text/plain": [
       "<Figure size 432x288 with 1 Axes>"
      ]
     },
     "metadata": {},
     "output_type": "display_data"
    }
   ],
   "source": [
    "# function that handles changes to sliders and creates histogram\n",
    "def on_value_change(change=1): # change isn't used but will be passewd so there has to be a placeholder\n",
    "    global low_widget, high_widget, lower_range, upper_range, sort_widget\n",
    "    \n",
    "    # provide defaults if values not defined\n",
    "    try:\n",
    "        lower_range = low_widget.value\n",
    "        upper_range = high_widget.value\n",
    "        sort_order = sort_widget.value\n",
    "    except NameError:\n",
    "        lower_range = 2000\n",
    "        upper_range = 55000\n",
    "        sort_order = True\n",
    "        \n",
    "# The SPARQL Query\n",
    "    results = g.query(\"\"\"\n",
    "PREFIX ramphs: <http://purl.org/roman-amphitheaters/resource/>\n",
    "PREFIX gj: <https://purl.org/geojson/vocab#>\n",
    "PREFIX ramphs-p: <http://purl.org/roman-amphitheaters/properties#>\n",
    "PREFIX dcterms: <http://purl.org/dc/terms/>\n",
    "SELECT ?title ?capacity ?pleiades WHERE {\n",
    "\n",
    "?s gj:properties/dcterms:title ?title ;\n",
    "   gj:properties/ramphs-p:capacity/ramphs-p:quantity ?capacity ;\n",
    "   gj:properties/ramphs-p:pleiades ?pleiades\n",
    "   .\n",
    "\n",
    "FILTER ((?capacity > %s) )\n",
    "FILTER (?capacity < %s)\n",
    "}\"\"\" % (lower_range, upper_range ) )\n",
    "\n",
    "    # build pandas dataframe\n",
    "    titles, caps, pleiades = [],[],[]\n",
    "    for row in results:\n",
    "        titles.append(row.title)\n",
    "        caps.append(int(row.capacity))\n",
    "        pleiades.append('<a href=\"{0}\" target=\"_new\">{0}hihi</a>'.format(row.pleiades))\n",
    "        \n",
    "    ramphs_pd = pd.DataFrame({'title':titles,'capacity':caps,'pleiades':pleiades})\n",
    "    \n",
    "    # build/display interface, table, and histogram\n",
    "    clear_output()\n",
    "    low_widget = widgets.IntSlider(value=lower_range,\n",
    "                               min=2000, max=55000,\n",
    "                               step = 1000,\n",
    "                               description=\"Lower limit:\",\n",
    "                               continuous_update=False)\n",
    "    high_widget = widgets.IntSlider(value=upper_range,\n",
    "                               min=2000, max=55000,\n",
    "                               step = 1000,\n",
    "                               description=\"Upper limit:\",\n",
    "                               continuous_update=False)\n",
    "    sort_widget = widgets.Checkbox(description=\"Sort high to low\", value=sort_order)\n",
    "    low_widget.observe(on_value_change, names='value')\n",
    "    high_widget.observe(on_value_change, names='value')\n",
    "    sort_widget.observe(on_value_change, names='value')\n",
    "    \n",
    "    display(high_widget,\n",
    "            low_widget,\n",
    "            sort_widget,\n",
    "            HTML(ramphs_pd.sort_values(by='capacity', ascending = not sort_order).head(10).to_html(escape=False)))\n",
    "    ramphs_pd.hist() # for now, works better outside of call to display()\n",
    "\n",
    "# call function that gets the ball rolling,\n",
    "on_value_change()"
   ]
  }
 ],
 "metadata": {
  "kernelspec": {
   "display_name": "Python 3",
   "language": "python",
   "name": "python3"
  },
  "language_info": {
   "codemirror_mode": {
    "name": "ipython",
    "version": 3
   },
   "file_extension": ".py",
   "mimetype": "text/x-python",
   "name": "python",
   "nbconvert_exporter": "python",
   "pygments_lexer": "ipython3",
   "version": "3.7.0"
  }
 },
 "nbformat": 4,
 "nbformat_minor": 2
}
