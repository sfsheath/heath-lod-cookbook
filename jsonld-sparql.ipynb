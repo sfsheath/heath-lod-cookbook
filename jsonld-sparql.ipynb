{
 "cells": [
  {
   "cell_type": "code",
   "execution_count": 1,
   "metadata": {},
   "outputs": [],
   "source": [
    "from urllib.request import urlopen\n",
    "from rdflib import Graph, plugin"
   ]
  },
  {
   "cell_type": "code",
   "execution_count": 2,
   "metadata": {},
   "outputs": [],
   "source": [
    "json_data = urlopen(\"http://sfsheath.github.io/roman-amphitheaters/roman-amphitheaters.geojson\")\n",
    "g = Graph().parse(data=json_data.read(), format='json-ld')"
   ]
  },
  {
   "cell_type": "code",
   "execution_count": 4,
   "metadata": {},
   "outputs": [
    {
     "name": "stdout",
     "output_type": "stream",
     "text": [
      "Amphitheater Fréjus\n",
      "Amphitheater at Autun\n",
      "Amphitheater at Dorchester / Maumbury Henge\n",
      "Amphitheater at Theveste\n",
      "Flavian Amphitheater at Pozzuoli\n",
      "Amphitheater at Chester\n",
      "Flavian Amphitheater at Rome\n",
      "Amphitheater at Paris\n",
      "Amphitheater at Urbs Salvia\n",
      "Amphitheater at Arezzo\n",
      "Amphitheater at Arles\n",
      "Amphitheater at Segobriga\n",
      "Amphitheater at Chichester\n",
      "Imperial Amphitheater at Capua\n",
      "Amphitheater at Vindonissa\n",
      "Amphitheater at Newstead\n",
      "Amphitheater at Nimes\n",
      "Amphitheater at Bolsena\n",
      "Amphitheater at Termini Imerese\n",
      "Amphitheater at Narbonne\n",
      "Amphitheater at Bobadela\n",
      "Amphitheater at Aquileia\n",
      "Amphitheater at London\n"
     ]
    }
   ],
   "source": [
    "results = g.query(\"\"\"\n",
    "PREFIX ramphs: <http://purl.org/roman-amphitheaters/resource/>\n",
    "PREFIX gj: <https://purl.org/geojson/vocab#>\n",
    "PREFIX ramphs-p: <http://purl.org/roman-amphitheaters/properties#>\n",
    "PREFIX dcterms: <http://purl.org/dc/terms/>\n",
    "SELECT ?title WHERE {\n",
    "\n",
    "?s gj:properties/ramphs-p:chronogroup ramphs:flavian .\n",
    "?s gj:properties/dcterms:title ?title\n",
    "}\"\"\")\n",
    "\n",
    "for row in results:\n",
    "    print(row.title)"
   ]
  }
 ],
 "metadata": {
  "kernelspec": {
   "display_name": "Python 3",
   "language": "python",
   "name": "python3"
  },
  "language_info": {
   "codemirror_mode": {
    "name": "ipython",
    "version": 3
   },
   "file_extension": ".py",
   "mimetype": "text/x-python",
   "name": "python",
   "nbconvert_exporter": "python",
   "pygments_lexer": "ipython3",
   "version": "3.7.0"
  }
 },
 "nbformat": 4,
 "nbformat_minor": 2
}
