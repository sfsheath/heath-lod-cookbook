{
 "cells": [
  {
   "cell_type": "code",
   "execution_count": 1,
   "metadata": {},
   "outputs": [],
   "source": [
    "from urllib.request import urlopen\n",
    "from rdflib import Graph, plugin\n",
    "import pandas as pd\n",
    "import matplotlib.pyplot as plt"
   ]
  },
  {
   "cell_type": "code",
   "execution_count": 2,
   "metadata": {},
   "outputs": [],
   "source": [
    "json_data = urlopen(\"http://sfsheath.github.io/roman-amphitheaters/roman-amphitheaters.geojson\")\n",
    "g = Graph().parse(data=json_data.read(), format='json-ld')"
   ]
  },
  {
   "cell_type": "code",
   "execution_count": 10,
   "metadata": {},
   "outputs": [
    {
     "data": {
      "text/plain": [
       "<matplotlib.axes._subplots.AxesSubplot at 0x1199c3cc0>"
      ]
     },
     "execution_count": 10,
     "metadata": {},
     "output_type": "execute_result"
    },
    {
     "data": {
      "image/png": "[encoded data removed]",
      "text/plain": [
       "<Figure size 432x288 with 1 Axes>"
      ]
     },
     "metadata": {},
     "output_type": "display_data"
    }
   ],
   "source": [
    "results = g.query(\"\"\"\n",
    "PREFIX ramphs: <http://purl.org/roman-amphitheaters/resource/>\n",
    "PREFIX gj: <https://purl.org/geojson/vocab#>\n",
    "PREFIX ramphs-p: <http://purl.org/roman-amphitheaters/properties#>\n",
    "PREFIX dcterms: <http://purl.org/dc/terms/>\n",
    "SELECT ?title ?capacity WHERE {\n",
    "\n",
    "?s gj:properties/ramphs-p:capacity/ramphs-p:quantity ?capacity .\n",
    "?s gj:properties/dcterms:title ?title\n",
    "}\"\"\")\n",
    "\n",
    "caps = []\n",
    "for row in results:\n",
    "    caps.append(float(row.capacity))\n",
    "ramphs_pd = pd.Series({'capacity':caps})\n",
    "ramphs_pd.hist()"
   ]
  }
 ],
 "metadata": {
  "kernelspec": {
   "display_name": "Python 3",
   "language": "python",
   "name": "python3"
  },
  "language_info": {
   "codemirror_mode": {
    "name": "ipython",
    "version": 3
   },
   "file_extension": ".py",
   "mimetype": "text/x-python",
   "name": "python",
   "nbconvert_exporter": "python",
   "pygments_lexer": "ipython3",
   "version": "3.7.0"
  }
 },
 "nbformat": 4,
 "nbformat_minor": 2
}
